{
 "cells": [
  {
   "cell_type": "code",
   "execution_count": 3,
   "id": "initial_id",
   "metadata": {
    "collapsed": true,
    "ExecuteTime": {
     "end_time": "2024-03-06T07:43:48.580998Z",
     "start_time": "2024-03-06T07:43:48.139724Z"
    }
   },
   "outputs": [],
   "source": [
    "import numpy as np\n",
    "import matplotlib.pyplot as plt\n",
    "import pandas as pd\n",
    "import seaborn as sns"
   ]
  },
  {
   "cell_type": "markdown",
   "source": [
    "Dva su nacina kategorickog mapiranja varijabli C1,C2, ..., Cn\n",
    "- da ih mapiramo kao vrijednosti 0,1,2,...,n-1\n",
    "- posmatrajmo npr furnishing status, pitamo se kako mozemo mapirati ove tri vrijednosti, u nasoj tabeli je to bila jedna kolona a mi mozemo kreirati 3 kolone jer smo imali tri statusa furnished, tako sto kreiramo npr kolone semi-furnished, furnished i posmatramo da li je semi-furnished i stavljamo jedinicu ako jeste 0 inace, i u biti ovo svodimo na yes ili no. Pitamo se sta ako imamo vise vrijednosti i onda bismo imali mnogo kolona, pa mozemo reducirati ovaj broj kolona. Nacin na koji to radimo jeste da gledamo binarne kombinacije, npr. dvije cifre: 0 0, 0 1, 1 0, 1 1 i dodijelimo onda te vrijednosti npr. kazemo da je furnished 0 0 kombinacija.\n"
   ],
   "metadata": {
    "collapsed": false
   },
   "id": "5aa78d8801352c7c"
  },
  {
   "cell_type": "markdown",
   "source": [
    "Glavna razlika izmedju ova dva pristupa je da prvi pristup gleda vece brojeve i to znaci da je taj broj ili puno bolji ili puno gori od nule, zavisi od modela. Sto je veci broj desavaju se vece promjene u modelu. Kada ih poredamo npr. za parking od 0,1,2,3 to znaci da su ili trice puno bolje od 0 ili puno gore. Naziva se one hot encoding. Binarno samo koristimo za kompresovanje ukoliko imamo mnogo varijabli. Onda prednost obicno dajemo onom sa dvije jedinice, tj. 1 1. Ukoliko one hot encoding zelimo da konvertujemo u binarni pristup uvijek je bar jedna kolona visak, i obicno izbacujemo onu prvu kolonu kod koje je na prvom mjestu jedinica i sve ostalo nule."
   ],
   "metadata": {
    "collapsed": false
   },
   "id": "e82868b4c79a6d9d"
  },
  {
   "cell_type": "code",
   "outputs": [],
   "source": [],
   "metadata": {
    "collapsed": false
   },
   "id": "4a8e8cacc36f424"
  },
  {
   "cell_type": "markdown",
   "source": [
    "axis = 0 znaci da posmatramo redove, a axis = 1 znaci da spajamo po kolonama"
   ],
   "metadata": {
    "collapsed": false
   },
   "id": "aa47a0dc900d3ab8"
  },
  {
   "cell_type": "code",
   "outputs": [],
   "source": [],
   "metadata": {
    "collapsed": false
   },
   "id": "43d44581313840c"
  }
 ],
 "metadata": {
  "kernelspec": {
   "display_name": "Python 3",
   "language": "python",
   "name": "python3"
  },
  "language_info": {
   "codemirror_mode": {
    "name": "ipython",
    "version": 2
   },
   "file_extension": ".py",
   "mimetype": "text/x-python",
   "name": "python",
   "nbconvert_exporter": "python",
   "pygments_lexer": "ipython2",
   "version": "2.7.6"
  }
 },
 "nbformat": 4,
 "nbformat_minor": 5
}
