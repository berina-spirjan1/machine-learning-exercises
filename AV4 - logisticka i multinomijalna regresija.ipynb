{
 "cells": [
  {
   "cell_type": "code",
   "execution_count": 78,
   "id": "f332e7e8",
   "metadata": {
    "id": "f332e7e8",
    "ExecuteTime": {
     "end_time": "2024-03-27T07:31:01.594650Z",
     "start_time": "2024-03-27T07:31:01.592514Z"
    }
   },
   "outputs": [],
   "source": [
    "import numpy as np\n",
    "import matplotlib.pyplot as plt\n",
    "import pandas as pd\n",
    "import seaborn as sns\n",
    "from scipy import stats\n",
    "import sklearn.metrics as metrics"
   ]
  },
  {
   "cell_type": "code",
   "execution_count": 79,
   "id": "d4e9c436",
   "metadata": {
    "colab": {
     "base_uri": "https://localhost:8080/",
     "height": 363
    },
    "id": "d4e9c436",
    "outputId": "7049f7bd-8a0c-4874-f650-af088df20353",
    "ExecuteTime": {
     "end_time": "2024-03-27T07:31:01.827704Z",
     "start_time": "2024-03-27T07:31:01.813184Z"
    }
   },
   "outputs": [
    {
     "data": {
      "text/plain": "   variance  skewness  curtosis  entropy  class\n0   3.62160    8.6661  -2.80730 -0.44699      0\n1   4.54590    8.1674  -2.45860 -1.46210      0\n2   3.86600   -2.6383   1.92420  0.10645      0\n3   3.45660    9.5228  -4.01120 -3.59440      0\n4   0.32924   -4.4552   4.57180 -0.98880      0\n5   4.36840    9.6718  -3.96060 -3.16250      0\n6   3.59120    3.0129   0.72888  0.56421      0\n7   2.09220   -6.8100   8.46360 -0.60216      0\n8   3.20320    5.7588  -0.75345 -0.61251      0\n9   1.53560    9.1772  -2.27180 -0.73535      0",
      "text/html": "<div>\n<style scoped>\n    .dataframe tbody tr th:only-of-type {\n        vertical-align: middle;\n    }\n\n    .dataframe tbody tr th {\n        vertical-align: top;\n    }\n\n    .dataframe thead th {\n        text-align: right;\n    }\n</style>\n<table border=\"1\" class=\"dataframe\">\n  <thead>\n    <tr style=\"text-align: right;\">\n      <th></th>\n      <th>variance</th>\n      <th>skewness</th>\n      <th>curtosis</th>\n      <th>entropy</th>\n      <th>class</th>\n    </tr>\n  </thead>\n  <tbody>\n    <tr>\n      <th>0</th>\n      <td>3.62160</td>\n      <td>8.6661</td>\n      <td>-2.80730</td>\n      <td>-0.44699</td>\n      <td>0</td>\n    </tr>\n    <tr>\n      <th>1</th>\n      <td>4.54590</td>\n      <td>8.1674</td>\n      <td>-2.45860</td>\n      <td>-1.46210</td>\n      <td>0</td>\n    </tr>\n    <tr>\n      <th>2</th>\n      <td>3.86600</td>\n      <td>-2.6383</td>\n      <td>1.92420</td>\n      <td>0.10645</td>\n      <td>0</td>\n    </tr>\n    <tr>\n      <th>3</th>\n      <td>3.45660</td>\n      <td>9.5228</td>\n      <td>-4.01120</td>\n      <td>-3.59440</td>\n      <td>0</td>\n    </tr>\n    <tr>\n      <th>4</th>\n      <td>0.32924</td>\n      <td>-4.4552</td>\n      <td>4.57180</td>\n      <td>-0.98880</td>\n      <td>0</td>\n    </tr>\n    <tr>\n      <th>5</th>\n      <td>4.36840</td>\n      <td>9.6718</td>\n      <td>-3.96060</td>\n      <td>-3.16250</td>\n      <td>0</td>\n    </tr>\n    <tr>\n      <th>6</th>\n      <td>3.59120</td>\n      <td>3.0129</td>\n      <td>0.72888</td>\n      <td>0.56421</td>\n      <td>0</td>\n    </tr>\n    <tr>\n      <th>7</th>\n      <td>2.09220</td>\n      <td>-6.8100</td>\n      <td>8.46360</td>\n      <td>-0.60216</td>\n      <td>0</td>\n    </tr>\n    <tr>\n      <th>8</th>\n      <td>3.20320</td>\n      <td>5.7588</td>\n      <td>-0.75345</td>\n      <td>-0.61251</td>\n      <td>0</td>\n    </tr>\n    <tr>\n      <th>9</th>\n      <td>1.53560</td>\n      <td>9.1772</td>\n      <td>-2.27180</td>\n      <td>-0.73535</td>\n      <td>0</td>\n    </tr>\n  </tbody>\n</table>\n</div>"
     },
     "execution_count": 79,
     "metadata": {},
     "output_type": "execute_result"
    }
   ],
   "source": [
    "data = pd.read_csv(\"data/BankNote_Authentication.csv\")\n",
    "# prikaz prvih 10 redova\n",
    "data.head(10)"
   ]
  },
  {
   "cell_type": "code",
   "execution_count": 80,
   "id": "f06a7c1b",
   "metadata": {
    "colab": {
     "base_uri": "https://localhost:8080/"
    },
    "id": "f06a7c1b",
    "outputId": "6134e0a2-5149-43c8-f6f5-bc7cdeb67045",
    "ExecuteTime": {
     "end_time": "2024-03-27T07:31:01.837791Z",
     "start_time": "2024-03-27T07:31:01.829949Z"
    }
   },
   "outputs": [
    {
     "name": "stdout",
     "output_type": "stream",
     "text": [
      "<class 'pandas.core.frame.DataFrame'>\n",
      "RangeIndex: 1372 entries, 0 to 1371\n",
      "Data columns (total 5 columns):\n",
      " #   Column    Non-Null Count  Dtype  \n",
      "---  ------    --------------  -----  \n",
      " 0   variance  1372 non-null   float64\n",
      " 1   skewness  1372 non-null   float64\n",
      " 2   curtosis  1372 non-null   float64\n",
      " 3   entropy   1372 non-null   float64\n",
      " 4   class     1372 non-null   int64  \n",
      "dtypes: float64(4), int64(1)\n",
      "memory usage: 53.7 KB\n"
     ]
    }
   ],
   "source": [
    "data.info()"
   ]
  },
  {
   "cell_type": "code",
   "execution_count": 81,
   "id": "7398eb06",
   "metadata": {
    "colab": {
     "base_uri": "https://localhost:8080/",
     "height": 300
    },
    "id": "7398eb06",
    "outputId": "f8590b47-b7ea-40a1-edab-d05319e5028b",
    "ExecuteTime": {
     "end_time": "2024-03-27T07:31:01.860885Z",
     "start_time": "2024-03-27T07:31:01.851201Z"
    }
   },
   "outputs": [
    {
     "data": {
      "text/plain": "          variance     skewness     curtosis      entropy        class\ncount  1372.000000  1372.000000  1372.000000  1372.000000  1372.000000\nmean      0.433735     1.922353     1.397627    -1.191657     0.444606\nstd       2.842763     5.869047     4.310030     2.101013     0.497103\nmin      -7.042100   -13.773100    -5.286100    -8.548200     0.000000\n25%      -1.773000    -1.708200    -1.574975    -2.413450     0.000000\n50%       0.496180     2.319650     0.616630    -0.586650     0.000000\n75%       2.821475     6.814625     3.179250     0.394810     1.000000\nmax       6.824800    12.951600    17.927400     2.449500     1.000000",
      "text/html": "<div>\n<style scoped>\n    .dataframe tbody tr th:only-of-type {\n        vertical-align: middle;\n    }\n\n    .dataframe tbody tr th {\n        vertical-align: top;\n    }\n\n    .dataframe thead th {\n        text-align: right;\n    }\n</style>\n<table border=\"1\" class=\"dataframe\">\n  <thead>\n    <tr style=\"text-align: right;\">\n      <th></th>\n      <th>variance</th>\n      <th>skewness</th>\n      <th>curtosis</th>\n      <th>entropy</th>\n      <th>class</th>\n    </tr>\n  </thead>\n  <tbody>\n    <tr>\n      <th>count</th>\n      <td>1372.000000</td>\n      <td>1372.000000</td>\n      <td>1372.000000</td>\n      <td>1372.000000</td>\n      <td>1372.000000</td>\n    </tr>\n    <tr>\n      <th>mean</th>\n      <td>0.433735</td>\n      <td>1.922353</td>\n      <td>1.397627</td>\n      <td>-1.191657</td>\n      <td>0.444606</td>\n    </tr>\n    <tr>\n      <th>std</th>\n      <td>2.842763</td>\n      <td>5.869047</td>\n      <td>4.310030</td>\n      <td>2.101013</td>\n      <td>0.497103</td>\n    </tr>\n    <tr>\n      <th>min</th>\n      <td>-7.042100</td>\n      <td>-13.773100</td>\n      <td>-5.286100</td>\n      <td>-8.548200</td>\n      <td>0.000000</td>\n    </tr>\n    <tr>\n      <th>25%</th>\n      <td>-1.773000</td>\n      <td>-1.708200</td>\n      <td>-1.574975</td>\n      <td>-2.413450</td>\n      <td>0.000000</td>\n    </tr>\n    <tr>\n      <th>50%</th>\n      <td>0.496180</td>\n      <td>2.319650</td>\n      <td>0.616630</td>\n      <td>-0.586650</td>\n      <td>0.000000</td>\n    </tr>\n    <tr>\n      <th>75%</th>\n      <td>2.821475</td>\n      <td>6.814625</td>\n      <td>3.179250</td>\n      <td>0.394810</td>\n      <td>1.000000</td>\n    </tr>\n    <tr>\n      <th>max</th>\n      <td>6.824800</td>\n      <td>12.951600</td>\n      <td>17.927400</td>\n      <td>2.449500</td>\n      <td>1.000000</td>\n    </tr>\n  </tbody>\n</table>\n</div>"
     },
     "execution_count": 81,
     "metadata": {},
     "output_type": "execute_result"
    }
   ],
   "source": [
    "data.describe()"
   ]
  },
  {
   "cell_type": "code",
   "execution_count": 82,
   "id": "8b605343",
   "metadata": {
    "colab": {
     "base_uri": "https://localhost:8080/"
    },
    "id": "8b605343",
    "outputId": "917166e9-5cd9-400a-a2c0-ebd4c4406dcc",
    "ExecuteTime": {
     "end_time": "2024-03-27T07:31:01.881464Z",
     "start_time": "2024-03-27T07:31:01.878177Z"
    }
   },
   "outputs": [
    {
     "data": {
      "text/plain": "array([0, 1])"
     },
     "execution_count": 82,
     "metadata": {},
     "output_type": "execute_result"
    }
   ],
   "source": [
    "data['class'].unique()"
   ]
  },
  {
   "cell_type": "code",
   "source": [
    "print(\"Broj 0\")\n",
    "print(len(data[data[\"class\"] == 0]))\n",
    "\n",
    "print(\"Broj 1\")\n",
    "print(len(data[data[\"class\"] == 1]))"
   ],
   "metadata": {
    "colab": {
     "base_uri": "https://localhost:8080/"
    },
    "id": "UGqxyDv_EXIa",
    "outputId": "97bea9c9-5295-4e10-a147-1e34a62bd837",
    "ExecuteTime": {
     "end_time": "2024-03-27T07:31:01.922624Z",
     "start_time": "2024-03-27T07:31:01.919555Z"
    }
   },
   "id": "UGqxyDv_EXIa",
   "execution_count": 83,
   "outputs": [
    {
     "name": "stdout",
     "output_type": "stream",
     "text": [
      "Broj 0\n",
      "762\n",
      "Broj 1\n",
      "610\n"
     ]
    }
   ]
  },
  {
   "cell_type": "code",
   "execution_count": 84,
   "id": "71d35e23",
   "metadata": {
    "colab": {
     "base_uri": "https://localhost:8080/"
    },
    "id": "71d35e23",
    "outputId": "895ff5e1-45f5-4939-cac6-564cc5d2c623",
    "ExecuteTime": {
     "end_time": "2024-03-27T07:31:02.134299Z",
     "start_time": "2024-03-27T07:31:02.129493Z"
    }
   },
   "outputs": [
    {
     "name": "stdout",
     "output_type": "stream",
     "text": [
      "Velicina trening skupa: 1097\n",
      "Velicina testnog skupa: 275\n"
     ]
    }
   ],
   "source": [
    "from sklearn.model_selection import train_test_split\n",
    "np.random.seed(0)\n",
    "df_train, df_test = train_test_split(data, test_size=0.2, random_state=42)\n",
    "df_train = df_train.reset_index(drop=True)\n",
    "df_test = df_test.reset_index(drop=True)\n",
    "\n",
    "print(f\"Velicina trening skupa: {len(df_train)}\")\n",
    "print(f\"Velicina testnog skupa: {len(df_test)}\")"
   ]
  },
  {
   "cell_type": "code",
   "execution_count": 85,
   "id": "0718b4f7",
   "metadata": {
    "colab": {
     "base_uri": "https://localhost:8080/",
     "height": 667
    },
    "id": "0718b4f7",
    "outputId": "0ed0c04d-7498-4818-fcf9-d9526e256288",
    "ExecuteTime": {
     "end_time": "2024-03-27T07:31:02.327370Z",
     "start_time": "2024-03-27T07:31:02.200056Z"
    }
   },
   "outputs": [
    {
     "data": {
      "text/plain": "<Figure size 1600x1000 with 2 Axes>",
      "image/png": "[encoded data removed]"
     },
     "metadata": {},
     "output_type": "display_data"
    }
   ],
   "source": [
    "# Grafik prikazuje inearnu korelaciju svake dvije kolone\n",
    "\n",
    "plt.figure(figsize = (16, 10))\n",
    "sns.heatmap(df_train.corr(), annot = True, cmap=\"YlGnBu\")\n",
    "plt.show()"
   ]
  },
  {
   "cell_type": "code",
   "execution_count": 86,
   "id": "63f1da55",
   "metadata": {
    "id": "63f1da55",
    "ExecuteTime": {
     "end_time": "2024-03-27T07:31:02.333152Z",
     "start_time": "2024-03-27T07:31:02.329751Z"
    }
   },
   "outputs": [],
   "source": [
    "def df_to_matrix(df):\n",
    "    return df.iloc[:,:].values"
   ]
  },
  {
   "cell_type": "code",
   "execution_count": 87,
   "id": "74efc3b7",
   "metadata": {
    "id": "74efc3b7",
    "ExecuteTime": {
     "end_time": "2024-03-27T07:31:02.338277Z",
     "start_time": "2024-03-27T07:31:02.333887Z"
    }
   },
   "outputs": [],
   "source": [
    "y_train = np.array(df_train.pop('class'))\n",
    "X_train = df_to_matrix(df_train)\n",
    "\n",
    "y_test = np.array(df_test.pop('class'))\n",
    "X_test = df_to_matrix(df_test)"
   ]
  },
  {
   "cell_type": "code",
   "execution_count": 88,
   "id": "8fdca40d",
   "metadata": {
    "colab": {
     "base_uri": "https://localhost:8080/"
    },
    "id": "8fdca40d",
    "outputId": "872027b5-856e-45ed-958b-cf4129661dac",
    "ExecuteTime": {
     "end_time": "2024-03-27T07:31:02.345369Z",
     "start_time": "2024-03-27T07:31:02.341291Z"
    }
   },
   "outputs": [
    {
     "data": {
      "text/plain": "array([[-1.3885  , 12.5026  ,  0.69118 , -7.5487  ],\n       [ 2.7744  ,  6.8576  , -1.0671  ,  0.075416],\n       [-4.2887  , -7.8633  , 11.8387  , -1.8978  ],\n       ...,\n       [-7.0364  ,  9.2931  ,  0.16594 , -4.5396  ],\n       [-3.4605  ,  2.6901  ,  0.16165 , -1.0224  ],\n       [-3.3582  , -7.2404  , 11.4419  , -0.57113 ]])"
     },
     "execution_count": 88,
     "metadata": {},
     "output_type": "execute_result"
    }
   ],
   "source": [
    "X_train"
   ]
  },
  {
   "cell_type": "code",
   "execution_count": 89,
   "id": "7d623cc6",
   "metadata": {
    "colab": {
     "base_uri": "https://localhost:8080/"
    },
    "id": "7d623cc6",
    "outputId": "01bdc696-62bc-4a46-8d82-5ebba0d0d168",
    "ExecuteTime": {
     "end_time": "2024-03-27T07:31:02.350511Z",
     "start_time": "2024-03-27T07:31:02.346954Z"
    }
   },
   "outputs": [
    {
     "data": {
      "text/plain": "array([0, 0, 1, 0, 0, 1, 0, 1, 0, 0])"
     },
     "execution_count": 89,
     "metadata": {},
     "output_type": "execute_result"
    }
   ],
   "source": [
    "y_train[:10]"
   ]
  },
  {
   "cell_type": "code",
   "execution_count": 90,
   "id": "df842457",
   "metadata": {
    "colab": {
     "base_uri": "https://localhost:8080/"
    },
    "id": "df842457",
    "outputId": "d9d11df3-ccf9-47b6-f3a4-7f89bca3f373",
    "ExecuteTime": {
     "end_time": "2024-03-27T07:31:02.374280Z",
     "start_time": "2024-03-27T07:31:02.369252Z"
    }
   },
   "outputs": [
    {
     "data": {
      "text/plain": "(1097, 4)"
     },
     "execution_count": 90,
     "metadata": {},
     "output_type": "execute_result"
    }
   ],
   "source": [
    "X_train.shape"
   ]
  },
  {
   "cell_type": "code",
   "execution_count": 91,
   "id": "957555b8",
   "metadata": {
    "colab": {
     "base_uri": "https://localhost:8080/"
    },
    "id": "957555b8",
    "outputId": "6355f44f-e55e-4f33-ca5d-c88368a29799",
    "ExecuteTime": {
     "end_time": "2024-03-27T07:31:02.386928Z",
     "start_time": "2024-03-27T07:31:02.383755Z"
    }
   },
   "outputs": [
    {
     "data": {
      "text/plain": "(1097,)"
     },
     "execution_count": 91,
     "metadata": {},
     "output_type": "execute_result"
    }
   ],
   "source": [
    "y_train.shape"
   ]
  },
  {
   "cell_type": "code",
   "execution_count": 92,
   "id": "a1dcb595",
   "metadata": {
    "colab": {
     "base_uri": "https://localhost:8080/"
    },
    "id": "a1dcb595",
    "outputId": "d21b1222-0fcc-4474-c0c7-44737a30bbc0",
    "ExecuteTime": {
     "end_time": "2024-03-27T07:31:02.425257Z",
     "start_time": "2024-03-27T07:31:02.414122Z"
    }
   },
   "outputs": [
    {
     "data": {
      "text/plain": "array([[ 1.5691  ,  6.3465  , -0.1828  , -2.4099  ],\n       [-0.27802 ,  8.1881  , -3.1338  , -2.5276  ],\n       [ 0.051979,  7.0521  , -2.0541  , -3.1508  ],\n       ...,\n       [ 3.4626  , -4.449   ,  3.5427  ,  0.15429 ],\n       [-0.278   ,  8.1881  , -3.1338  , -2.5276  ],\n       [ 2.7831  , 10.9796  , -3.557   , -4.4039  ]])"
     },
     "execution_count": 92,
     "metadata": {},
     "output_type": "execute_result"
    }
   ],
   "source": [
    "X_test"
   ]
  },
  {
   "cell_type": "code",
   "execution_count": 93,
   "id": "c62e0851",
   "metadata": {
    "colab": {
     "base_uri": "https://localhost:8080/"
    },
    "id": "c62e0851",
    "outputId": "9b3aa4fc-3d09-48fc-f6e3-8e55b148a4b3",
    "ExecuteTime": {
     "end_time": "2024-03-27T07:31:02.808566Z",
     "start_time": "2024-03-27T07:31:02.801808Z"
    }
   },
   "outputs": [
    {
     "data": {
      "text/plain": "array([0, 0, 0, 0, 0, 0, 0, 0, 0, 0])"
     },
     "execution_count": 93,
     "metadata": {},
     "output_type": "execute_result"
    }
   ],
   "source": [
    "y_test[:10]"
   ]
  },
  {
   "cell_type": "code",
   "execution_count": 94,
   "id": "2976c632",
   "metadata": {
    "colab": {
     "base_uri": "https://localhost:8080/"
    },
    "id": "2976c632",
    "outputId": "7916e1f1-de18-47ce-f428-1e24839fe3da",
    "ExecuteTime": {
     "end_time": "2024-03-27T07:31:02.841084Z",
     "start_time": "2024-03-27T07:31:02.838245Z"
    }
   },
   "outputs": [
    {
     "data": {
      "text/plain": "(275, 4)"
     },
     "execution_count": 94,
     "metadata": {},
     "output_type": "execute_result"
    }
   ],
   "source": [
    "X_test.shape"
   ]
  },
  {
   "cell_type": "code",
   "execution_count": 95,
   "id": "184ecf08",
   "metadata": {
    "colab": {
     "base_uri": "https://localhost:8080/"
    },
    "id": "184ecf08",
    "outputId": "67f32bfc-c3a0-454e-cffc-aefead0fc938",
    "ExecuteTime": {
     "end_time": "2024-03-27T07:31:02.870785Z",
     "start_time": "2024-03-27T07:31:02.868349Z"
    }
   },
   "outputs": [
    {
     "data": {
      "text/plain": "(275,)"
     },
     "execution_count": 95,
     "metadata": {},
     "output_type": "execute_result"
    }
   ],
   "source": [
    "y_test.shape"
   ]
  },
  {
   "cell_type": "markdown",
   "id": "6efd053c",
   "metadata": {
    "id": "6efd053c"
   },
   "source": [
    "# Implementacija modela logističke regresije"
   ]
  },
  {
   "cell_type": "code",
   "execution_count": 96,
   "id": "9393c796",
   "metadata": {
    "id": "9393c796",
    "ExecuteTime": {
     "end_time": "2024-03-27T07:31:02.930568Z",
     "start_time": "2024-03-27T07:31:02.925563Z"
    }
   },
   "outputs": [],
   "source": [
    "from sklearn.metrics import accuracy_score\n",
    "from sklearn.linear_model import LogisticRegression\n",
    "\n",
    "class LogistickaRegresija():\n",
    "    def __init__(self, learning_rate=0.01):\n",
    "        self.losses = []\n",
    "        self.train_accuracies = []\n",
    "        self.learning_rate = learning_rate\n",
    "\n",
    "    def train(self, x, y, epochs=100):\n",
    "\n",
    "        # broj podataka, broj featuresa\n",
    "        self.n, self.d = x.shape\n",
    "        # inicijalizacija tezina\n",
    "        self.W = np.zeros(self.d)\n",
    "        self.b = 0\n",
    "\n",
    "        for i in range(epochs):\n",
    "            pred = self.predict(x, to_logits=False)\n",
    "\n",
    "            loss = self.compute_loss(y, pred)\n",
    "            dW, dB = self.compute_gradients(x, y, pred)\n",
    "            self.update_model_parameters(dW, dB)\n",
    "\n",
    "            y_pred = [1 if p > 0.5 else 0 for p in pred]\n",
    "            self.train_accuracies.append(accuracy_score(y, y_pred))\n",
    "            self.losses.append(loss)\n",
    "            print(f\"Train Loss: {round(loss, 3)} | Train Accuracy: {self.train_accuracies[-1]}\")\n",
    "\n",
    "    def compute_loss(self, y_true, y_pred):\n",
    "        # binary cross entropy\n",
    "        y_zero_loss = y_true * np.log(y_pred + 1e-9)\n",
    "        y_one_loss = (1-y_true) * np.log(1 - y_pred + 1e-9)\n",
    "        return -np.mean(y_zero_loss + y_one_loss)\n",
    "\n",
    "    def compute_gradients(self, x, y_true, y_pred):\n",
    "        # derivative of binary cross entropy\n",
    "        dW = - ((x.T).dot(y_true - y_pred)) / self.n\n",
    "        db = - np.sum(y_true - y_pred) / self.n\n",
    "\n",
    "        return dW, db\n",
    "\n",
    "    def update_model_parameters(self, dW, dB):\n",
    "        self.W = self.W - self.learning_rate * dW\n",
    "        self.bias = self.b - self.learning_rate * dB\n",
    "\n",
    "    def predict(self, X, to_logits=True):\n",
    "        x_dot_weights = X.dot(self.W) + self.b\n",
    "        probabilities = np.array([self.sigmoid(proba) for proba in x_dot_weights ])\n",
    "        if to_logits:\n",
    "            return [1 if p > 0.5 else 0 for p in probabilities]\n",
    "        else:\n",
    "            return probabilities\n",
    "\n",
    "    def sigmoid(self, x):\n",
    "        if x >= 0:\n",
    "            z = np.exp(-x)\n",
    "            return 1 / (1 + z)\n",
    "        else:\n",
    "            z = np.exp(x)\n",
    "            return z / (1 + z)"
   ]
  },
  {
   "cell_type": "code",
   "execution_count": 97,
   "id": "ff545807",
   "metadata": {
    "id": "ff545807",
    "ExecuteTime": {
     "end_time": "2024-03-27T07:31:02.944396Z",
     "start_time": "2024-03-27T07:31:02.941566Z"
    }
   },
   "outputs": [],
   "source": [
    "# Skaliranja feature-sa (standardizacija)\n",
    "from sklearn.preprocessing import StandardScaler\n",
    "\n",
    "train_std_scaler = StandardScaler()\n",
    "\n",
    "X_train_std = train_std_scaler.fit_transform(X_train)\n",
    "X_test_std = train_std_scaler.transform(X_test)"
   ]
  },
  {
   "cell_type": "code",
   "execution_count": 98,
   "id": "f75e6d28",
   "metadata": {
    "id": "f75e6d28",
    "outputId": "b508825c-4932-4dec-a168-21fc80015d89",
    "ExecuteTime": {
     "end_time": "2024-03-27T07:31:03.064175Z",
     "start_time": "2024-03-27T07:31:02.956303Z"
    }
   },
   "outputs": [
    {
     "name": "stdout",
     "output_type": "stream",
     "text": [
      "Train Loss: 0.693 | Train Accuracy: 0.5597082953509571\n",
      "Train Loss: 0.674 | Train Accuracy: 0.8477666362807658\n",
      "Train Loss: 0.657 | Train Accuracy: 0.8495897903372835\n",
      "Train Loss: 0.641 | Train Accuracy: 0.8495897903372835\n",
      "Train Loss: 0.626 | Train Accuracy: 0.8514129443938013\n",
      "Train Loss: 0.612 | Train Accuracy: 0.854147675478578\n",
      "Train Loss: 0.6 | Train Accuracy: 0.854147675478578\n",
      "Train Loss: 0.587 | Train Accuracy: 0.8550592525068368\n",
      "Train Loss: 0.576 | Train Accuracy: 0.8577939835916135\n",
      "Train Loss: 0.565 | Train Accuracy: 0.8596171376481313\n",
      "Train Loss: 0.555 | Train Accuracy: 0.8577939835916135\n",
      "Train Loss: 0.546 | Train Accuracy: 0.8587055606198724\n",
      "Train Loss: 0.537 | Train Accuracy: 0.8577939835916135\n",
      "Train Loss: 0.529 | Train Accuracy: 0.8596171376481313\n",
      "Train Loss: 0.521 | Train Accuracy: 0.8623518687329079\n",
      "Train Loss: 0.513 | Train Accuracy: 0.8632634457611669\n",
      "Train Loss: 0.506 | Train Accuracy: 0.8641750227894257\n",
      "Train Loss: 0.499 | Train Accuracy: 0.8659981768459435\n",
      "Train Loss: 0.492 | Train Accuracy: 0.8669097538742023\n",
      "Train Loss: 0.486 | Train Accuracy: 0.8687329079307201\n",
      "Train Loss: 0.48 | Train Accuracy: 0.8696444849589791\n",
      "Train Loss: 0.474 | Train Accuracy: 0.8696444849589791\n",
      "Train Loss: 0.469 | Train Accuracy: 0.8705560619872379\n",
      "Train Loss: 0.464 | Train Accuracy: 0.8723792160437557\n",
      "Train Loss: 0.458 | Train Accuracy: 0.8732907930720146\n",
      "Train Loss: 0.454 | Train Accuracy: 0.8732907930720146\n",
      "Train Loss: 0.449 | Train Accuracy: 0.8732907930720146\n",
      "Train Loss: 0.444 | Train Accuracy: 0.8742023701002735\n",
      "Train Loss: 0.44 | Train Accuracy: 0.8751139471285324\n",
      "Train Loss: 0.435 | Train Accuracy: 0.8751139471285324\n",
      "Train Loss: 0.431 | Train Accuracy: 0.8751139471285324\n",
      "Train Loss: 0.427 | Train Accuracy: 0.8760255241567912\n",
      "Train Loss: 0.423 | Train Accuracy: 0.8769371011850501\n",
      "Train Loss: 0.42 | Train Accuracy: 0.877848678213309\n",
      "Train Loss: 0.416 | Train Accuracy: 0.8796718322698268\n",
      "Train Loss: 0.412 | Train Accuracy: 0.8805834092980857\n",
      "Train Loss: 0.409 | Train Accuracy: 0.8805834092980857\n",
      "Train Loss: 0.406 | Train Accuracy: 0.8805834092980857\n",
      "Train Loss: 0.402 | Train Accuracy: 0.8824065633546034\n",
      "Train Loss: 0.399 | Train Accuracy: 0.8824065633546034\n",
      "Train Loss: 0.396 | Train Accuracy: 0.8824065633546034\n",
      "Train Loss: 0.393 | Train Accuracy: 0.8833181403828624\n",
      "Train Loss: 0.39 | Train Accuracy: 0.8833181403828624\n",
      "Train Loss: 0.387 | Train Accuracy: 0.8833181403828624\n",
      "Train Loss: 0.384 | Train Accuracy: 0.8833181403828624\n",
      "Train Loss: 0.381 | Train Accuracy: 0.8842297174111212\n",
      "Train Loss: 0.379 | Train Accuracy: 0.8851412944393802\n",
      "Train Loss: 0.376 | Train Accuracy: 0.8851412944393802\n",
      "Train Loss: 0.374 | Train Accuracy: 0.886964448495898\n",
      "Train Loss: 0.371 | Train Accuracy: 0.8878760255241568\n",
      "Train Loss: 0.369 | Train Accuracy: 0.8878760255241568\n",
      "Train Loss: 0.366 | Train Accuracy: 0.8887876025524157\n",
      "Train Loss: 0.364 | Train Accuracy: 0.8887876025524157\n",
      "Train Loss: 0.361 | Train Accuracy: 0.8915223336371924\n",
      "Train Loss: 0.359 | Train Accuracy: 0.8915223336371924\n",
      "Train Loss: 0.357 | Train Accuracy: 0.8924339106654512\n",
      "Train Loss: 0.355 | Train Accuracy: 0.8924339106654512\n",
      "Train Loss: 0.353 | Train Accuracy: 0.8924339106654512\n",
      "Train Loss: 0.35 | Train Accuracy: 0.894257064721969\n",
      "Train Loss: 0.348 | Train Accuracy: 0.894257064721969\n",
      "Train Loss: 0.346 | Train Accuracy: 0.8951686417502279\n",
      "Train Loss: 0.344 | Train Accuracy: 0.8951686417502279\n",
      "Train Loss: 0.342 | Train Accuracy: 0.8960802187784868\n",
      "Train Loss: 0.34 | Train Accuracy: 0.8969917958067457\n",
      "Train Loss: 0.338 | Train Accuracy: 0.8969917958067457\n",
      "Train Loss: 0.337 | Train Accuracy: 0.8997265268915223\n",
      "Train Loss: 0.335 | Train Accuracy: 0.8988149498632635\n",
      "Train Loss: 0.333 | Train Accuracy: 0.8988149498632635\n",
      "Train Loss: 0.331 | Train Accuracy: 0.9006381039197813\n",
      "Train Loss: 0.329 | Train Accuracy: 0.9006381039197813\n",
      "Train Loss: 0.328 | Train Accuracy: 0.9006381039197813\n",
      "Train Loss: 0.326 | Train Accuracy: 0.902461257976299\n",
      "Train Loss: 0.324 | Train Accuracy: 0.902461257976299\n",
      "Train Loss: 0.323 | Train Accuracy: 0.9033728350045579\n",
      "Train Loss: 0.321 | Train Accuracy: 0.9051959890610757\n",
      "Train Loss: 0.319 | Train Accuracy: 0.9061075660893345\n",
      "Train Loss: 0.318 | Train Accuracy: 0.9079307201458523\n",
      "Train Loss: 0.316 | Train Accuracy: 0.9079307201458523\n",
      "Train Loss: 0.315 | Train Accuracy: 0.9088422971741112\n",
      "Train Loss: 0.313 | Train Accuracy: 0.9115770282588879\n",
      "Train Loss: 0.312 | Train Accuracy: 0.9115770282588879\n",
      "Train Loss: 0.31 | Train Accuracy: 0.9124886052871468\n",
      "Train Loss: 0.309 | Train Accuracy: 0.9134001823154057\n",
      "Train Loss: 0.307 | Train Accuracy: 0.9134001823154057\n",
      "Train Loss: 0.306 | Train Accuracy: 0.9143117593436645\n",
      "Train Loss: 0.304 | Train Accuracy: 0.9152233363719234\n",
      "Train Loss: 0.303 | Train Accuracy: 0.9161349134001823\n",
      "Train Loss: 0.302 | Train Accuracy: 0.9170464904284412\n",
      "Train Loss: 0.3 | Train Accuracy: 0.918869644484959\n",
      "Train Loss: 0.299 | Train Accuracy: 0.918869644484959\n",
      "Train Loss: 0.298 | Train Accuracy: 0.9197812215132178\n",
      "Train Loss: 0.296 | Train Accuracy: 0.9197812215132178\n",
      "Train Loss: 0.295 | Train Accuracy: 0.9206927985414768\n",
      "Train Loss: 0.294 | Train Accuracy: 0.9206927985414768\n",
      "Train Loss: 0.292 | Train Accuracy: 0.9206927985414768\n",
      "Train Loss: 0.291 | Train Accuracy: 0.9216043755697356\n",
      "Train Loss: 0.29 | Train Accuracy: 0.9225159525979946\n",
      "Train Loss: 0.289 | Train Accuracy: 0.9234275296262534\n",
      "Train Loss: 0.287 | Train Accuracy: 0.9234275296262534\n",
      "Train Loss: 0.286 | Train Accuracy: 0.9234275296262534\n"
     ]
    },
    {
     "data": {
      "text/plain": "DescribeResult(nobs=1097, minmax=(0, 1), mean=0.47037374658158615, variance=0.24934958646341382, skewness=0.1187135902774598, kurtosis=-1.9859070834834354)"
     },
     "execution_count": 98,
     "metadata": {},
     "output_type": "execute_result"
    }
   ],
   "source": [
    "model = LogistickaRegresija( learning_rate=1e-1)\n",
    "model.train(X_train_std, y_train, epochs=100)\n",
    "y_train_pred = model.predict(X_train_std)\n",
    "stats.describe(y_train_pred)"
   ]
  },
  {
   "cell_type": "code",
   "execution_count": 99,
   "id": "4a477643",
   "metadata": {
    "id": "4a477643",
    "outputId": "5a74d5d9-1aea-4fc7-cf95-7ad5a48541bd",
    "ExecuteTime": {
     "end_time": "2024-03-27T07:31:03.070904Z",
     "start_time": "2024-03-27T07:31:03.065963Z"
    }
   },
   "outputs": [
    {
     "data": {
      "text/plain": "0.9163636363636364"
     },
     "execution_count": 99,
     "metadata": {},
     "output_type": "execute_result"
    }
   ],
   "source": [
    "y_test_pred = model.predict(X_test_std)\n",
    "accuracy_score(y_test, y_test_pred)"
   ]
  },
  {
   "cell_type": "code",
   "execution_count": 100,
   "id": "05132704",
   "metadata": {
    "id": "05132704",
    "ExecuteTime": {
     "end_time": "2024-03-27T07:31:03.074538Z",
     "start_time": "2024-03-27T07:31:03.072098Z"
    }
   },
   "outputs": [],
   "source": [
    "def print_metrics(y_test, y_test_pred):\n",
    "    print(\"Accuracy:\",metrics.accuracy_score(y_test, y_test_pred),' - Classification Rate')\n",
    "    print(\"Precision:\",metrics.precision_score(y_test, y_test_pred),' - Precision - What proportion of positive identifications was actually correct? ')\n",
    "    print(\"Recall:\",metrics.recall_score(y_test, y_test_pred),' - Recall - What proportion of actual positives was identified correctly?')"
   ]
  },
  {
   "cell_type": "code",
   "execution_count": 101,
   "id": "0c266983",
   "metadata": {
    "id": "0c266983",
    "outputId": "029751ac-43e4-4cdd-abce-ce0fa410b8dd",
    "ExecuteTime": {
     "end_time": "2024-03-27T07:31:03.080440Z",
     "start_time": "2024-03-27T07:31:03.076513Z"
    }
   },
   "outputs": [
    {
     "data": {
      "text/plain": "array([[137,  11],\n       [ 12, 115]])"
     },
     "execution_count": 101,
     "metadata": {},
     "output_type": "execute_result"
    }
   ],
   "source": [
    "cnf_matrix = metrics.confusion_matrix(y_test, y_test_pred)\n",
    "cnf_matrix"
   ]
  },
  {
   "cell_type": "code",
   "execution_count": 102,
   "id": "6fc48edb",
   "metadata": {
    "id": "6fc48edb",
    "outputId": "e79bebb0-c006-4f9d-d446-d72c7da7195b",
    "ExecuteTime": {
     "end_time": "2024-03-27T07:31:03.250151Z",
     "start_time": "2024-03-27T07:31:03.081684Z"
    }
   },
   "outputs": [
    {
     "data": {
      "text/plain": "Text(0.5, 427.9555555555555, 'Predicted label')"
     },
     "execution_count": 102,
     "metadata": {},
     "output_type": "execute_result"
    },
    {
     "data": {
      "text/plain": "<Figure size 640x480 with 2 Axes>",
      "image/png": "[encoded data removed]"
     },
     "metadata": {},
     "output_type": "display_data"
    }
   ],
   "source": [
    "# Plot the Confusion Matrix as a HeatMap\n",
    "class_names=[\"prava\", \"lazna\"] # Name  of classes\n",
    "fig, ax = plt.subplots()\n",
    "\n",
    "# create heatmap\n",
    "sns.heatmap(pd.DataFrame(cnf_matrix), annot=True, cmap=\"YlGnBu\" ,fmt='g')\n",
    "ax.xaxis.set_label_position(\"top\")\n",
    "plt.tight_layout()\n",
    "ax.invert_yaxis()\n",
    "ax.set_xticklabels(class_names)\n",
    "ax.set_yticklabels(class_names)\n",
    "\n",
    "plt.title('Confusion matrix', y=1.1)\n",
    "plt.ylabel('Actual label')\n",
    "plt.xlabel('Predicted label')"
   ]
  },
  {
   "cell_type": "code",
   "execution_count": 103,
   "id": "7964c7db",
   "metadata": {
    "id": "7964c7db",
    "outputId": "4a664b80-9557-4192-87ca-f2262cbdcd48",
    "ExecuteTime": {
     "end_time": "2024-03-27T07:31:03.262480Z",
     "start_time": "2024-03-27T07:31:03.252026Z"
    }
   },
   "outputs": [
    {
     "name": "stdout",
     "output_type": "stream",
     "text": [
      "Accuracy: 0.9163636363636364  - Classification Rate\n",
      "Precision: 0.9126984126984127  - Precision - What proportion of positive identifications was actually correct? \n",
      "Recall: 0.905511811023622  - Recall - What proportion of actual positives was identified correctly?\n"
     ]
    }
   ],
   "source": [
    "print_metrics(y_test, y_test_pred)"
   ]
  },
  {
   "cell_type": "markdown",
   "id": "a5e8ed09",
   "metadata": {
    "id": "a5e8ed09"
   },
   "source": [
    "# Korištenje Logisticke regresije iz sklearn biblioteke"
   ]
  },
  {
   "cell_type": "code",
   "execution_count": 104,
   "id": "fd94a40f",
   "metadata": {
    "id": "fd94a40f",
    "outputId": "c7c8c856-fa4f-42f2-dfe1-163eacc056dc",
    "ExecuteTime": {
     "end_time": "2024-03-27T07:31:03.285769Z",
     "start_time": "2024-03-27T07:31:03.265725Z"
    }
   },
   "outputs": [
    {
     "data": {
      "text/plain": "0.99179580674567"
     },
     "execution_count": 104,
     "metadata": {},
     "output_type": "execute_result"
    }
   ],
   "source": [
    "clf = LogisticRegression(random_state=0).fit(X_train, y_train)\n",
    "y_train_pred = clf.predict(X_train)\n",
    "accuracy_score(y_train, y_train_pred)"
   ]
  },
  {
   "cell_type": "code",
   "execution_count": 105,
   "id": "78b8e7b2",
   "metadata": {
    "id": "78b8e7b2",
    "outputId": "bf3bd3f5-b143-4449-b1fb-bdd651f14c23",
    "ExecuteTime": {
     "end_time": "2024-03-27T07:31:03.294190Z",
     "start_time": "2024-03-27T07:31:03.287514Z"
    }
   },
   "outputs": [
    {
     "data": {
      "text/plain": "0.850909090909091"
     },
     "execution_count": 105,
     "metadata": {},
     "output_type": "execute_result"
    }
   ],
   "source": [
    "y_test_pred = model.predict(X_test)\n",
    "accuracy_score(y_test, y_test_pred)"
   ]
  },
  {
   "cell_type": "code",
   "execution_count": 106,
   "id": "a09a8c6b",
   "metadata": {
    "id": "a09a8c6b",
    "outputId": "49a1c126-c945-447c-ec58-cb89dadec7ac",
    "ExecuteTime": {
     "end_time": "2024-03-27T07:31:03.304047Z",
     "start_time": "2024-03-27T07:31:03.296784Z"
    }
   },
   "outputs": [
    {
     "data": {
      "text/plain": "0.850909090909091"
     },
     "execution_count": 106,
     "metadata": {},
     "output_type": "execute_result"
    }
   ],
   "source": [
    "accuracy_score(y_test, y_test_pred)"
   ]
  },
  {
   "cell_type": "code",
   "execution_count": 107,
   "id": "7495433f",
   "metadata": {
    "id": "7495433f",
    "outputId": "3842d5f3-ade2-4335-a799-45feca2ce653",
    "ExecuteTime": {
     "end_time": "2024-03-27T07:31:03.322551Z",
     "start_time": "2024-03-27T07:31:03.311172Z"
    }
   },
   "outputs": [
    {
     "name": "stdout",
     "output_type": "stream",
     "text": [
      "Accuracy: 0.850909090909091  - Classification Rate\n",
      "Precision: 0.9777777777777777  - Precision - What proportion of positive identifications was actually correct? \n",
      "Recall: 0.6929133858267716  - Recall - What proportion of actual positives was identified correctly?\n"
     ]
    }
   ],
   "source": [
    "print_metrics(y_test, y_test_pred)"
   ]
  },
  {
   "cell_type": "code",
   "execution_count": 108,
   "id": "d6493d48",
   "metadata": {
    "id": "d6493d48",
    "outputId": "8297204c-0aa6-456a-e75d-90f486fac8cd",
    "ExecuteTime": {
     "end_time": "2024-03-27T07:31:03.433229Z",
     "start_time": "2024-03-27T07:31:03.324530Z"
    }
   },
   "outputs": [
    {
     "data": {
      "text/plain": "<Figure size 640x480 with 1 Axes>",
      "image/png": "[encoded data removed]"
     },
     "metadata": {},
     "output_type": "display_data"
    },
    {
     "name": "stdout",
     "output_type": "stream",
     "text": [
      "The AUC Score provides an aggregate measure of performance across all possible classification thresholds\n",
      "AUC ranges in value from 0 to 1. A model whose predictions are 100% wrong has an AUC of 0.0; one whose predictions are 100% correct has an AUC of 1.0.\n"
     ]
    }
   ],
   "source": [
    "#Receiver Operating Characteristic(ROC) curve is a plot of the true positive rate against the false positive rate.\n",
    "y_pred_proba = clf.predict_proba(X_test)[::,1]\n",
    "fpr, tpr, _ = metrics.roc_curve(y_test,  y_pred_proba)\n",
    "auc = metrics.roc_auc_score(y_test, y_pred_proba)\n",
    "plt.plot(fpr,tpr,label=\"data 1, auc=\"+str(auc))\n",
    "plt.legend(loc=4)\n",
    "plt.title('ROC Curve')\n",
    "plt.show()\n",
    "print('The AUC Score provides an aggregate measure of performance across all possible classification thresholds')\n",
    "print('AUC ranges in value from 0 to 1. A model whose predictions are 100% wrong has an AUC of 0.0; one whose predictions are 100% correct has an AUC of 1.0.')\n"
   ]
  },
  {
   "cell_type": "code",
   "execution_count": 109,
   "id": "4e965881",
   "metadata": {
    "id": "4e965881",
    "outputId": "2f73519c-ca6a-4af1-b84b-efb556e9ddc1",
    "ExecuteTime": {
     "end_time": "2024-03-27T07:31:03.441825Z",
     "start_time": "2024-03-27T07:31:03.435564Z"
    }
   },
   "outputs": [
    {
     "name": "stdout",
     "output_type": "stream",
     "text": [
      "              precision    recall  f1-score   support\n",
      "\n",
      "           0       0.79      0.99      0.88       148\n",
      "           1       0.98      0.69      0.81       127\n",
      "\n",
      "    accuracy                           0.85       275\n",
      "   macro avg       0.88      0.84      0.84       275\n",
      "weighted avg       0.88      0.85      0.85       275\n"
     ]
    }
   ],
   "source": [
    "print(metrics.classification_report(y_test, y_test_pred)) # Displays a comprehensive Report of the Logistic Regression Model"
   ]
  },
  {
   "cell_type": "markdown",
   "id": "de0299af",
   "metadata": {
    "id": "de0299af"
   },
   "source": [
    "# Više klasa: Multinomijalna logistička regresija"
   ]
  },
  {
   "cell_type": "code",
   "execution_count": 110,
   "id": "acdd2829",
   "metadata": {
    "id": "acdd2829",
    "outputId": "e48f84c7-762a-439e-9bc6-7b5824b2964f",
    "ExecuteTime": {
     "end_time": "2024-03-27T07:31:03.563412Z",
     "start_time": "2024-03-27T07:31:03.520944Z"
    }
   },
   "outputs": [
    {
     "ename": "FileNotFoundError",
     "evalue": "[Errno 2] No such file or directory: '../data/IRIS.csv'",
     "output_type": "error",
     "traceback": [
      "\u001B[0;31m---------------------------------------------------------------------------\u001B[0m",
      "\u001B[0;31mFileNotFoundError\u001B[0m                         Traceback (most recent call last)",
      "Cell \u001B[0;32mIn[110], line 1\u001B[0m\n\u001B[0;32m----> 1\u001B[0m data \u001B[38;5;241m=\u001B[39m \u001B[43mpd\u001B[49m\u001B[38;5;241;43m.\u001B[39;49m\u001B[43mread_csv\u001B[49m\u001B[43m(\u001B[49m\u001B[38;5;124;43m\"\u001B[39;49m\u001B[38;5;124;43m../data/IRIS.csv\u001B[39;49m\u001B[38;5;124;43m\"\u001B[39;49m\u001B[43m)\u001B[49m\n\u001B[1;32m      2\u001B[0m \u001B[38;5;66;03m# prikaz prvih 10 redova\u001B[39;00m\n\u001B[1;32m      3\u001B[0m data\u001B[38;5;241m.\u001B[39mhead(\u001B[38;5;241m10\u001B[39m)\n",
      "File \u001B[0;32m~/anaconda3/envs/pneumonia-detection-ml-with-react/lib/python3.10/site-packages/pandas/io/parsers/readers.py:1026\u001B[0m, in \u001B[0;36mread_csv\u001B[0;34m(filepath_or_buffer, sep, delimiter, header, names, index_col, usecols, dtype, engine, converters, true_values, false_values, skipinitialspace, skiprows, skipfooter, nrows, na_values, keep_default_na, na_filter, verbose, skip_blank_lines, parse_dates, infer_datetime_format, keep_date_col, date_parser, date_format, dayfirst, cache_dates, iterator, chunksize, compression, thousands, decimal, lineterminator, quotechar, quoting, doublequote, escapechar, comment, encoding, encoding_errors, dialect, on_bad_lines, delim_whitespace, low_memory, memory_map, float_precision, storage_options, dtype_backend)\u001B[0m\n\u001B[1;32m   1013\u001B[0m kwds_defaults \u001B[38;5;241m=\u001B[39m _refine_defaults_read(\n\u001B[1;32m   1014\u001B[0m     dialect,\n\u001B[1;32m   1015\u001B[0m     delimiter,\n\u001B[0;32m   (...)\u001B[0m\n\u001B[1;32m   1022\u001B[0m     dtype_backend\u001B[38;5;241m=\u001B[39mdtype_backend,\n\u001B[1;32m   1023\u001B[0m )\n\u001B[1;32m   1024\u001B[0m kwds\u001B[38;5;241m.\u001B[39mupdate(kwds_defaults)\n\u001B[0;32m-> 1026\u001B[0m \u001B[38;5;28;01mreturn\u001B[39;00m \u001B[43m_read\u001B[49m\u001B[43m(\u001B[49m\u001B[43mfilepath_or_buffer\u001B[49m\u001B[43m,\u001B[49m\u001B[43m \u001B[49m\u001B[43mkwds\u001B[49m\u001B[43m)\u001B[49m\n",
      "File \u001B[0;32m~/anaconda3/envs/pneumonia-detection-ml-with-react/lib/python3.10/site-packages/pandas/io/parsers/readers.py:620\u001B[0m, in \u001B[0;36m_read\u001B[0;34m(filepath_or_buffer, kwds)\u001B[0m\n\u001B[1;32m    617\u001B[0m _validate_names(kwds\u001B[38;5;241m.\u001B[39mget(\u001B[38;5;124m\"\u001B[39m\u001B[38;5;124mnames\u001B[39m\u001B[38;5;124m\"\u001B[39m, \u001B[38;5;28;01mNone\u001B[39;00m))\n\u001B[1;32m    619\u001B[0m \u001B[38;5;66;03m# Create the parser.\u001B[39;00m\n\u001B[0;32m--> 620\u001B[0m parser \u001B[38;5;241m=\u001B[39m \u001B[43mTextFileReader\u001B[49m\u001B[43m(\u001B[49m\u001B[43mfilepath_or_buffer\u001B[49m\u001B[43m,\u001B[49m\u001B[43m \u001B[49m\u001B[38;5;241;43m*\u001B[39;49m\u001B[38;5;241;43m*\u001B[39;49m\u001B[43mkwds\u001B[49m\u001B[43m)\u001B[49m\n\u001B[1;32m    622\u001B[0m \u001B[38;5;28;01mif\u001B[39;00m chunksize \u001B[38;5;129;01mor\u001B[39;00m iterator:\n\u001B[1;32m    623\u001B[0m     \u001B[38;5;28;01mreturn\u001B[39;00m parser\n",
      "File \u001B[0;32m~/anaconda3/envs/pneumonia-detection-ml-with-react/lib/python3.10/site-packages/pandas/io/parsers/readers.py:1620\u001B[0m, in \u001B[0;36mTextFileReader.__init__\u001B[0;34m(self, f, engine, **kwds)\u001B[0m\n\u001B[1;32m   1617\u001B[0m     \u001B[38;5;28mself\u001B[39m\u001B[38;5;241m.\u001B[39moptions[\u001B[38;5;124m\"\u001B[39m\u001B[38;5;124mhas_index_names\u001B[39m\u001B[38;5;124m\"\u001B[39m] \u001B[38;5;241m=\u001B[39m kwds[\u001B[38;5;124m\"\u001B[39m\u001B[38;5;124mhas_index_names\u001B[39m\u001B[38;5;124m\"\u001B[39m]\n\u001B[1;32m   1619\u001B[0m \u001B[38;5;28mself\u001B[39m\u001B[38;5;241m.\u001B[39mhandles: IOHandles \u001B[38;5;241m|\u001B[39m \u001B[38;5;28;01mNone\u001B[39;00m \u001B[38;5;241m=\u001B[39m \u001B[38;5;28;01mNone\u001B[39;00m\n\u001B[0;32m-> 1620\u001B[0m \u001B[38;5;28mself\u001B[39m\u001B[38;5;241m.\u001B[39m_engine \u001B[38;5;241m=\u001B[39m \u001B[38;5;28;43mself\u001B[39;49m\u001B[38;5;241;43m.\u001B[39;49m\u001B[43m_make_engine\u001B[49m\u001B[43m(\u001B[49m\u001B[43mf\u001B[49m\u001B[43m,\u001B[49m\u001B[43m \u001B[49m\u001B[38;5;28;43mself\u001B[39;49m\u001B[38;5;241;43m.\u001B[39;49m\u001B[43mengine\u001B[49m\u001B[43m)\u001B[49m\n",
      "File \u001B[0;32m~/anaconda3/envs/pneumonia-detection-ml-with-react/lib/python3.10/site-packages/pandas/io/parsers/readers.py:1880\u001B[0m, in \u001B[0;36mTextFileReader._make_engine\u001B[0;34m(self, f, engine)\u001B[0m\n\u001B[1;32m   1878\u001B[0m     \u001B[38;5;28;01mif\u001B[39;00m \u001B[38;5;124m\"\u001B[39m\u001B[38;5;124mb\u001B[39m\u001B[38;5;124m\"\u001B[39m \u001B[38;5;129;01mnot\u001B[39;00m \u001B[38;5;129;01min\u001B[39;00m mode:\n\u001B[1;32m   1879\u001B[0m         mode \u001B[38;5;241m+\u001B[39m\u001B[38;5;241m=\u001B[39m \u001B[38;5;124m\"\u001B[39m\u001B[38;5;124mb\u001B[39m\u001B[38;5;124m\"\u001B[39m\n\u001B[0;32m-> 1880\u001B[0m \u001B[38;5;28mself\u001B[39m\u001B[38;5;241m.\u001B[39mhandles \u001B[38;5;241m=\u001B[39m \u001B[43mget_handle\u001B[49m\u001B[43m(\u001B[49m\n\u001B[1;32m   1881\u001B[0m \u001B[43m    \u001B[49m\u001B[43mf\u001B[49m\u001B[43m,\u001B[49m\n\u001B[1;32m   1882\u001B[0m \u001B[43m    \u001B[49m\u001B[43mmode\u001B[49m\u001B[43m,\u001B[49m\n\u001B[1;32m   1883\u001B[0m \u001B[43m    \u001B[49m\u001B[43mencoding\u001B[49m\u001B[38;5;241;43m=\u001B[39;49m\u001B[38;5;28;43mself\u001B[39;49m\u001B[38;5;241;43m.\u001B[39;49m\u001B[43moptions\u001B[49m\u001B[38;5;241;43m.\u001B[39;49m\u001B[43mget\u001B[49m\u001B[43m(\u001B[49m\u001B[38;5;124;43m\"\u001B[39;49m\u001B[38;5;124;43mencoding\u001B[39;49m\u001B[38;5;124;43m\"\u001B[39;49m\u001B[43m,\u001B[49m\u001B[43m \u001B[49m\u001B[38;5;28;43;01mNone\u001B[39;49;00m\u001B[43m)\u001B[49m\u001B[43m,\u001B[49m\n\u001B[1;32m   1884\u001B[0m \u001B[43m    \u001B[49m\u001B[43mcompression\u001B[49m\u001B[38;5;241;43m=\u001B[39;49m\u001B[38;5;28;43mself\u001B[39;49m\u001B[38;5;241;43m.\u001B[39;49m\u001B[43moptions\u001B[49m\u001B[38;5;241;43m.\u001B[39;49m\u001B[43mget\u001B[49m\u001B[43m(\u001B[49m\u001B[38;5;124;43m\"\u001B[39;49m\u001B[38;5;124;43mcompression\u001B[39;49m\u001B[38;5;124;43m\"\u001B[39;49m\u001B[43m,\u001B[49m\u001B[43m \u001B[49m\u001B[38;5;28;43;01mNone\u001B[39;49;00m\u001B[43m)\u001B[49m\u001B[43m,\u001B[49m\n\u001B[1;32m   1885\u001B[0m \u001B[43m    \u001B[49m\u001B[43mmemory_map\u001B[49m\u001B[38;5;241;43m=\u001B[39;49m\u001B[38;5;28;43mself\u001B[39;49m\u001B[38;5;241;43m.\u001B[39;49m\u001B[43moptions\u001B[49m\u001B[38;5;241;43m.\u001B[39;49m\u001B[43mget\u001B[49m\u001B[43m(\u001B[49m\u001B[38;5;124;43m\"\u001B[39;49m\u001B[38;5;124;43mmemory_map\u001B[39;49m\u001B[38;5;124;43m\"\u001B[39;49m\u001B[43m,\u001B[49m\u001B[43m \u001B[49m\u001B[38;5;28;43;01mFalse\u001B[39;49;00m\u001B[43m)\u001B[49m\u001B[43m,\u001B[49m\n\u001B[1;32m   1886\u001B[0m \u001B[43m    \u001B[49m\u001B[43mis_text\u001B[49m\u001B[38;5;241;43m=\u001B[39;49m\u001B[43mis_text\u001B[49m\u001B[43m,\u001B[49m\n\u001B[1;32m   1887\u001B[0m \u001B[43m    \u001B[49m\u001B[43merrors\u001B[49m\u001B[38;5;241;43m=\u001B[39;49m\u001B[38;5;28;43mself\u001B[39;49m\u001B[38;5;241;43m.\u001B[39;49m\u001B[43moptions\u001B[49m\u001B[38;5;241;43m.\u001B[39;49m\u001B[43mget\u001B[49m\u001B[43m(\u001B[49m\u001B[38;5;124;43m\"\u001B[39;49m\u001B[38;5;124;43mencoding_errors\u001B[39;49m\u001B[38;5;124;43m\"\u001B[39;49m\u001B[43m,\u001B[49m\u001B[43m \u001B[49m\u001B[38;5;124;43m\"\u001B[39;49m\u001B[38;5;124;43mstrict\u001B[39;49m\u001B[38;5;124;43m\"\u001B[39;49m\u001B[43m)\u001B[49m\u001B[43m,\u001B[49m\n\u001B[1;32m   1888\u001B[0m \u001B[43m    \u001B[49m\u001B[43mstorage_options\u001B[49m\u001B[38;5;241;43m=\u001B[39;49m\u001B[38;5;28;43mself\u001B[39;49m\u001B[38;5;241;43m.\u001B[39;49m\u001B[43moptions\u001B[49m\u001B[38;5;241;43m.\u001B[39;49m\u001B[43mget\u001B[49m\u001B[43m(\u001B[49m\u001B[38;5;124;43m\"\u001B[39;49m\u001B[38;5;124;43mstorage_options\u001B[39;49m\u001B[38;5;124;43m\"\u001B[39;49m\u001B[43m,\u001B[49m\u001B[43m \u001B[49m\u001B[38;5;28;43;01mNone\u001B[39;49;00m\u001B[43m)\u001B[49m\u001B[43m,\u001B[49m\n\u001B[1;32m   1889\u001B[0m \u001B[43m\u001B[49m\u001B[43m)\u001B[49m\n\u001B[1;32m   1890\u001B[0m \u001B[38;5;28;01massert\u001B[39;00m \u001B[38;5;28mself\u001B[39m\u001B[38;5;241m.\u001B[39mhandles \u001B[38;5;129;01mis\u001B[39;00m \u001B[38;5;129;01mnot\u001B[39;00m \u001B[38;5;28;01mNone\u001B[39;00m\n\u001B[1;32m   1891\u001B[0m f \u001B[38;5;241m=\u001B[39m \u001B[38;5;28mself\u001B[39m\u001B[38;5;241m.\u001B[39mhandles\u001B[38;5;241m.\u001B[39mhandle\n",
      "File \u001B[0;32m~/anaconda3/envs/pneumonia-detection-ml-with-react/lib/python3.10/site-packages/pandas/io/common.py:873\u001B[0m, in \u001B[0;36mget_handle\u001B[0;34m(path_or_buf, mode, encoding, compression, memory_map, is_text, errors, storage_options)\u001B[0m\n\u001B[1;32m    868\u001B[0m \u001B[38;5;28;01melif\u001B[39;00m \u001B[38;5;28misinstance\u001B[39m(handle, \u001B[38;5;28mstr\u001B[39m):\n\u001B[1;32m    869\u001B[0m     \u001B[38;5;66;03m# Check whether the filename is to be opened in binary mode.\u001B[39;00m\n\u001B[1;32m    870\u001B[0m     \u001B[38;5;66;03m# Binary mode does not support 'encoding' and 'newline'.\u001B[39;00m\n\u001B[1;32m    871\u001B[0m     \u001B[38;5;28;01mif\u001B[39;00m ioargs\u001B[38;5;241m.\u001B[39mencoding \u001B[38;5;129;01mand\u001B[39;00m \u001B[38;5;124m\"\u001B[39m\u001B[38;5;124mb\u001B[39m\u001B[38;5;124m\"\u001B[39m \u001B[38;5;129;01mnot\u001B[39;00m \u001B[38;5;129;01min\u001B[39;00m ioargs\u001B[38;5;241m.\u001B[39mmode:\n\u001B[1;32m    872\u001B[0m         \u001B[38;5;66;03m# Encoding\u001B[39;00m\n\u001B[0;32m--> 873\u001B[0m         handle \u001B[38;5;241m=\u001B[39m \u001B[38;5;28;43mopen\u001B[39;49m\u001B[43m(\u001B[49m\n\u001B[1;32m    874\u001B[0m \u001B[43m            \u001B[49m\u001B[43mhandle\u001B[49m\u001B[43m,\u001B[49m\n\u001B[1;32m    875\u001B[0m \u001B[43m            \u001B[49m\u001B[43mioargs\u001B[49m\u001B[38;5;241;43m.\u001B[39;49m\u001B[43mmode\u001B[49m\u001B[43m,\u001B[49m\n\u001B[1;32m    876\u001B[0m \u001B[43m            \u001B[49m\u001B[43mencoding\u001B[49m\u001B[38;5;241;43m=\u001B[39;49m\u001B[43mioargs\u001B[49m\u001B[38;5;241;43m.\u001B[39;49m\u001B[43mencoding\u001B[49m\u001B[43m,\u001B[49m\n\u001B[1;32m    877\u001B[0m \u001B[43m            \u001B[49m\u001B[43merrors\u001B[49m\u001B[38;5;241;43m=\u001B[39;49m\u001B[43merrors\u001B[49m\u001B[43m,\u001B[49m\n\u001B[1;32m    878\u001B[0m \u001B[43m            \u001B[49m\u001B[43mnewline\u001B[49m\u001B[38;5;241;43m=\u001B[39;49m\u001B[38;5;124;43m\"\u001B[39;49m\u001B[38;5;124;43m\"\u001B[39;49m\u001B[43m,\u001B[49m\n\u001B[1;32m    879\u001B[0m \u001B[43m        \u001B[49m\u001B[43m)\u001B[49m\n\u001B[1;32m    880\u001B[0m     \u001B[38;5;28;01melse\u001B[39;00m:\n\u001B[1;32m    881\u001B[0m         \u001B[38;5;66;03m# Binary mode\u001B[39;00m\n\u001B[1;32m    882\u001B[0m         handle \u001B[38;5;241m=\u001B[39m \u001B[38;5;28mopen\u001B[39m(handle, ioargs\u001B[38;5;241m.\u001B[39mmode)\n",
      "\u001B[0;31mFileNotFoundError\u001B[0m: [Errno 2] No such file or directory: '../data/IRIS.csv'"
     ]
    }
   ],
   "source": [
    "data = pd.read_csv(\"../data/IRIS.csv\")\n",
    "# prikaz prvih 10 redova\n",
    "data.head(10)"
   ]
  },
  {
   "cell_type": "code",
   "execution_count": 111,
   "id": "5f72ed09",
   "metadata": {
    "id": "5f72ed09",
    "outputId": "69b02844-f73f-4311-aca6-5def19b68cd8",
    "ExecuteTime": {
     "end_time": "2024-03-27T07:31:03.597413Z",
     "start_time": "2024-03-27T07:31:03.593351Z"
    }
   },
   "outputs": [
    {
     "name": "stdout",
     "output_type": "stream",
     "text": [
      "<class 'pandas.core.frame.DataFrame'>\n",
      "RangeIndex: 1372 entries, 0 to 1371\n",
      "Data columns (total 5 columns):\n",
      " #   Column    Non-Null Count  Dtype  \n",
      "---  ------    --------------  -----  \n",
      " 0   variance  1372 non-null   float64\n",
      " 1   skewness  1372 non-null   float64\n",
      " 2   curtosis  1372 non-null   float64\n",
      " 3   entropy   1372 non-null   float64\n",
      " 4   class     1372 non-null   int64  \n",
      "dtypes: float64(4), int64(1)\n",
      "memory usage: 53.7 KB\n"
     ]
    }
   ],
   "source": [
    "data.info()"
   ]
  },
  {
   "cell_type": "code",
   "execution_count": 112,
   "id": "a4b15da2",
   "metadata": {
    "id": "a4b15da2",
    "outputId": "5ad6575a-1760-4e0d-be37-04871e2d0902",
    "ExecuteTime": {
     "end_time": "2024-03-27T07:31:03.688507Z",
     "start_time": "2024-03-27T07:31:03.679375Z"
    }
   },
   "outputs": [
    {
     "data": {
      "text/plain": "          variance     skewness     curtosis      entropy        class\ncount  1372.000000  1372.000000  1372.000000  1372.000000  1372.000000\nmean      0.433735     1.922353     1.397627    -1.191657     0.444606\nstd       2.842763     5.869047     4.310030     2.101013     0.497103\nmin      -7.042100   -13.773100    -5.286100    -8.548200     0.000000\n25%      -1.773000    -1.708200    -1.574975    -2.413450     0.000000\n50%       0.496180     2.319650     0.616630    -0.586650     0.000000\n75%       2.821475     6.814625     3.179250     0.394810     1.000000\nmax       6.824800    12.951600    17.927400     2.449500     1.000000",
      "text/html": "<div>\n<style scoped>\n    .dataframe tbody tr th:only-of-type {\n        vertical-align: middle;\n    }\n\n    .dataframe tbody tr th {\n        vertical-align: top;\n    }\n\n    .dataframe thead th {\n        text-align: right;\n    }\n</style>\n<table border=\"1\" class=\"dataframe\">\n  <thead>\n    <tr style=\"text-align: right;\">\n      <th></th>\n      <th>variance</th>\n      <th>skewness</th>\n      <th>curtosis</th>\n      <th>entropy</th>\n      <th>class</th>\n    </tr>\n  </thead>\n  <tbody>\n    <tr>\n      <th>count</th>\n      <td>1372.000000</td>\n      <td>1372.000000</td>\n      <td>1372.000000</td>\n      <td>1372.000000</td>\n      <td>1372.000000</td>\n    </tr>\n    <tr>\n      <th>mean</th>\n      <td>0.433735</td>\n      <td>1.922353</td>\n      <td>1.397627</td>\n      <td>-1.191657</td>\n      <td>0.444606</td>\n    </tr>\n    <tr>\n      <th>std</th>\n      <td>2.842763</td>\n      <td>5.869047</td>\n      <td>4.310030</td>\n      <td>2.101013</td>\n      <td>0.497103</td>\n    </tr>\n    <tr>\n      <th>min</th>\n      <td>-7.042100</td>\n      <td>-13.773100</td>\n      <td>-5.286100</td>\n      <td>-8.548200</td>\n      <td>0.000000</td>\n    </tr>\n    <tr>\n      <th>25%</th>\n      <td>-1.773000</td>\n      <td>-1.708200</td>\n      <td>-1.574975</td>\n      <td>-2.413450</td>\n      <td>0.000000</td>\n    </tr>\n    <tr>\n      <th>50%</th>\n      <td>0.496180</td>\n      <td>2.319650</td>\n      <td>0.616630</td>\n      <td>-0.586650</td>\n      <td>0.000000</td>\n    </tr>\n    <tr>\n      <th>75%</th>\n      <td>2.821475</td>\n      <td>6.814625</td>\n      <td>3.179250</td>\n      <td>0.394810</td>\n      <td>1.000000</td>\n    </tr>\n    <tr>\n      <th>max</th>\n      <td>6.824800</td>\n      <td>12.951600</td>\n      <td>17.927400</td>\n      <td>2.449500</td>\n      <td>1.000000</td>\n    </tr>\n  </tbody>\n</table>\n</div>"
     },
     "execution_count": 112,
     "metadata": {},
     "output_type": "execute_result"
    }
   ],
   "source": [
    "data.describe()"
   ]
  },
  {
   "cell_type": "code",
   "execution_count": 113,
   "id": "91cfc44c",
   "metadata": {
    "id": "91cfc44c",
    "ExecuteTime": {
     "end_time": "2024-03-27T07:31:04.931158Z",
     "start_time": "2024-03-27T07:31:03.830855Z"
    }
   },
   "outputs": [
    {
     "ename": "KeyError",
     "evalue": "'species'",
     "output_type": "error",
     "traceback": [
      "\u001B[0;31m---------------------------------------------------------------------------\u001B[0m",
      "\u001B[0;31mKeyError\u001B[0m                                  Traceback (most recent call last)",
      "File \u001B[0;32m~/anaconda3/envs/pneumonia-detection-ml-with-react/lib/python3.10/site-packages/pandas/core/indexes/base.py:3805\u001B[0m, in \u001B[0;36mIndex.get_loc\u001B[0;34m(self, key)\u001B[0m\n\u001B[1;32m   3804\u001B[0m \u001B[38;5;28;01mtry\u001B[39;00m:\n\u001B[0;32m-> 3805\u001B[0m     \u001B[38;5;28;01mreturn\u001B[39;00m \u001B[38;5;28;43mself\u001B[39;49m\u001B[38;5;241;43m.\u001B[39;49m\u001B[43m_engine\u001B[49m\u001B[38;5;241;43m.\u001B[39;49m\u001B[43mget_loc\u001B[49m\u001B[43m(\u001B[49m\u001B[43mcasted_key\u001B[49m\u001B[43m)\u001B[49m\n\u001B[1;32m   3806\u001B[0m \u001B[38;5;28;01mexcept\u001B[39;00m \u001B[38;5;167;01mKeyError\u001B[39;00m \u001B[38;5;28;01mas\u001B[39;00m err:\n",
      "File \u001B[0;32mindex.pyx:167\u001B[0m, in \u001B[0;36mpandas._libs.index.IndexEngine.get_loc\u001B[0;34m()\u001B[0m\n",
      "File \u001B[0;32mindex.pyx:196\u001B[0m, in \u001B[0;36mpandas._libs.index.IndexEngine.get_loc\u001B[0;34m()\u001B[0m\n",
      "File \u001B[0;32mpandas/_libs/hashtable_class_helper.pxi:7081\u001B[0m, in \u001B[0;36mpandas._libs.hashtable.PyObjectHashTable.get_item\u001B[0;34m()\u001B[0m\n",
      "File \u001B[0;32mpandas/_libs/hashtable_class_helper.pxi:7089\u001B[0m, in \u001B[0;36mpandas._libs.hashtable.PyObjectHashTable.get_item\u001B[0;34m()\u001B[0m\n",
      "\u001B[0;31mKeyError\u001B[0m: 'species'",
      "\nThe above exception was the direct cause of the following exception:\n",
      "\u001B[0;31mKeyError\u001B[0m                                  Traceback (most recent call last)",
      "Cell \u001B[0;32mIn[113], line 1\u001B[0m\n\u001B[0;32m----> 1\u001B[0m classes \u001B[38;5;241m=\u001B[39m \u001B[43mdata\u001B[49m\u001B[43m[\u001B[49m\u001B[38;5;124;43m'\u001B[39;49m\u001B[38;5;124;43mspecies\u001B[39;49m\u001B[38;5;124;43m'\u001B[39;49m\u001B[43m]\u001B[49m\u001B[38;5;241m.\u001B[39munique()\n",
      "File \u001B[0;32m~/anaconda3/envs/pneumonia-detection-ml-with-react/lib/python3.10/site-packages/pandas/core/frame.py:4090\u001B[0m, in \u001B[0;36mDataFrame.__getitem__\u001B[0;34m(self, key)\u001B[0m\n\u001B[1;32m   4088\u001B[0m \u001B[38;5;28;01mif\u001B[39;00m \u001B[38;5;28mself\u001B[39m\u001B[38;5;241m.\u001B[39mcolumns\u001B[38;5;241m.\u001B[39mnlevels \u001B[38;5;241m>\u001B[39m \u001B[38;5;241m1\u001B[39m:\n\u001B[1;32m   4089\u001B[0m     \u001B[38;5;28;01mreturn\u001B[39;00m \u001B[38;5;28mself\u001B[39m\u001B[38;5;241m.\u001B[39m_getitem_multilevel(key)\n\u001B[0;32m-> 4090\u001B[0m indexer \u001B[38;5;241m=\u001B[39m \u001B[38;5;28;43mself\u001B[39;49m\u001B[38;5;241;43m.\u001B[39;49m\u001B[43mcolumns\u001B[49m\u001B[38;5;241;43m.\u001B[39;49m\u001B[43mget_loc\u001B[49m\u001B[43m(\u001B[49m\u001B[43mkey\u001B[49m\u001B[43m)\u001B[49m\n\u001B[1;32m   4091\u001B[0m \u001B[38;5;28;01mif\u001B[39;00m is_integer(indexer):\n\u001B[1;32m   4092\u001B[0m     indexer \u001B[38;5;241m=\u001B[39m [indexer]\n",
      "File \u001B[0;32m~/anaconda3/envs/pneumonia-detection-ml-with-react/lib/python3.10/site-packages/pandas/core/indexes/base.py:3812\u001B[0m, in \u001B[0;36mIndex.get_loc\u001B[0;34m(self, key)\u001B[0m\n\u001B[1;32m   3807\u001B[0m     \u001B[38;5;28;01mif\u001B[39;00m \u001B[38;5;28misinstance\u001B[39m(casted_key, \u001B[38;5;28mslice\u001B[39m) \u001B[38;5;129;01mor\u001B[39;00m (\n\u001B[1;32m   3808\u001B[0m         \u001B[38;5;28misinstance\u001B[39m(casted_key, abc\u001B[38;5;241m.\u001B[39mIterable)\n\u001B[1;32m   3809\u001B[0m         \u001B[38;5;129;01mand\u001B[39;00m \u001B[38;5;28many\u001B[39m(\u001B[38;5;28misinstance\u001B[39m(x, \u001B[38;5;28mslice\u001B[39m) \u001B[38;5;28;01mfor\u001B[39;00m x \u001B[38;5;129;01min\u001B[39;00m casted_key)\n\u001B[1;32m   3810\u001B[0m     ):\n\u001B[1;32m   3811\u001B[0m         \u001B[38;5;28;01mraise\u001B[39;00m InvalidIndexError(key)\n\u001B[0;32m-> 3812\u001B[0m     \u001B[38;5;28;01mraise\u001B[39;00m \u001B[38;5;167;01mKeyError\u001B[39;00m(key) \u001B[38;5;28;01mfrom\u001B[39;00m \u001B[38;5;21;01merr\u001B[39;00m\n\u001B[1;32m   3813\u001B[0m \u001B[38;5;28;01mexcept\u001B[39;00m \u001B[38;5;167;01mTypeError\u001B[39;00m:\n\u001B[1;32m   3814\u001B[0m     \u001B[38;5;66;03m# If we have a listlike key, _check_indexing_error will raise\u001B[39;00m\n\u001B[1;32m   3815\u001B[0m     \u001B[38;5;66;03m#  InvalidIndexError. Otherwise we fall through and re-raise\u001B[39;00m\n\u001B[1;32m   3816\u001B[0m     \u001B[38;5;66;03m#  the TypeError.\u001B[39;00m\n\u001B[1;32m   3817\u001B[0m     \u001B[38;5;28mself\u001B[39m\u001B[38;5;241m.\u001B[39m_check_indexing_error(key)\n",
      "\u001B[0;31mKeyError\u001B[0m: 'species'"
     ]
    }
   ],
   "source": [
    "classes = data['species'].unique()"
   ]
  },
  {
   "cell_type": "code",
   "execution_count": null,
   "id": "164ea9ec",
   "metadata": {
    "id": "164ea9ec",
    "outputId": "76798329-fd88-4d3e-f227-52f1c2f0d09e"
   },
   "outputs": [],
   "source": [
    "classes_dict = {class_name: i for i, class_name in enumerate(classes)}\n",
    "classes_dict"
   ]
  },
  {
   "cell_type": "code",
   "execution_count": null,
   "id": "91a06a6c",
   "metadata": {
    "id": "91a06a6c"
   },
   "outputs": [],
   "source": [
    "def species_map(x):\n",
    "    return x.map(classes_dict)\n",
    "\n",
    "# Mapiranje podataka iz dataframe-a\n",
    "data[['species']] = data[['species']].apply(species_map)"
   ]
  },
  {
   "cell_type": "code",
   "execution_count": null,
   "id": "3e9bf986",
   "metadata": {
    "id": "3e9bf986",
    "outputId": "c7d69733-4bb0-4a9e-b013-66b5ba103fa8"
   },
   "outputs": [],
   "source": [
    "from sklearn.model_selection import train_test_split\n",
    "np.random.seed(0)\n",
    "df_train, df_test = train_test_split(data, test_size=0.2, random_state=42)\n",
    "df_train = df_train.reset_index(drop=True)\n",
    "df_test = df_test.reset_index(drop=True)\n",
    "\n",
    "print(f\"Velicina trening skupa: {len(df_train)}\")\n",
    "print(f\"Velicina testnog skupa: {len(df_test)}\")"
   ]
  },
  {
   "cell_type": "code",
   "execution_count": null,
   "id": "2555e0b8",
   "metadata": {
    "id": "2555e0b8",
    "outputId": "7679ab99-4b9e-4e82-8b6f-31606c4fcc4f"
   },
   "outputs": [],
   "source": [
    "# Grafik prikazuje inearnu korelaciju svake dvije kolone\n",
    "\n",
    "plt.figure(figsize = (16, 10))\n",
    "sns.heatmap(df_train.corr(), annot = True, cmap=\"YlGnBu\")\n",
    "plt.show()"
   ]
  },
  {
   "cell_type": "code",
   "execution_count": null,
   "id": "51178eec",
   "metadata": {
    "id": "51178eec"
   },
   "outputs": [],
   "source": [
    "def df_to_matrix(df):\n",
    "    return df.iloc[:,:].values"
   ]
  },
  {
   "cell_type": "code",
   "execution_count": null,
   "id": "94c19d8c",
   "metadata": {
    "id": "94c19d8c"
   },
   "outputs": [],
   "source": [
    "y_train = np.array(df_train.pop('species'))\n",
    "X_train = df_to_matrix(df_train)\n",
    "\n",
    "y_test = np.array(df_test.pop('species'))\n",
    "X_test = df_to_matrix(df_test)"
   ]
  },
  {
   "cell_type": "code",
   "execution_count": null,
   "id": "e6f30dbe",
   "metadata": {
    "id": "e6f30dbe",
    "outputId": "4115e669-beab-4caf-a8e3-150dccc42b0f"
   },
   "outputs": [],
   "source": [
    "X_train"
   ]
  },
  {
   "cell_type": "code",
   "execution_count": null,
   "id": "109a978f",
   "metadata": {
    "id": "109a978f",
    "outputId": "a7e478b7-2c73-4aef-ac4b-64ef4e9a74f5"
   },
   "outputs": [],
   "source": [
    "y_train[:10]"
   ]
  },
  {
   "cell_type": "code",
   "execution_count": null,
   "id": "69664e58",
   "metadata": {
    "id": "69664e58",
    "outputId": "762d986d-3b69-4c53-e1a3-8ae15b03ff22"
   },
   "outputs": [],
   "source": [
    "X_train.shape"
   ]
  },
  {
   "cell_type": "code",
   "execution_count": null,
   "id": "11427784",
   "metadata": {
    "id": "11427784",
    "outputId": "963151b4-f3ac-417b-be7b-3bc20f7b067b"
   },
   "outputs": [],
   "source": [
    "y_train.shape"
   ]
  },
  {
   "cell_type": "code",
   "execution_count": null,
   "id": "87cf1435",
   "metadata": {
    "id": "87cf1435",
    "outputId": "c111a75d-feb0-47a9-8d6b-ac0f5f5189e3"
   },
   "outputs": [],
   "source": [
    "X_test"
   ]
  },
  {
   "cell_type": "code",
   "execution_count": null,
   "id": "2f87ccea",
   "metadata": {
    "id": "2f87ccea",
    "outputId": "ebcdec95-c591-44c8-dbcc-2af3065f7b6d"
   },
   "outputs": [],
   "source": [
    "y_test[:10]"
   ]
  },
  {
   "cell_type": "code",
   "execution_count": null,
   "id": "1a6a457e",
   "metadata": {
    "id": "1a6a457e",
    "outputId": "af09327c-ed4b-404c-8e78-a4050d824171"
   },
   "outputs": [],
   "source": [
    "X_test.shape"
   ]
  },
  {
   "cell_type": "code",
   "execution_count": null,
   "id": "94d32fdf",
   "metadata": {
    "id": "94d32fdf",
    "outputId": "17bdff69-8793-4c99-8fac-50cbf82f5786"
   },
   "outputs": [],
   "source": [
    "y_test.shape"
   ]
  },
  {
   "cell_type": "markdown",
   "id": "9f8ad8c6",
   "metadata": {
    "id": "9f8ad8c6"
   },
   "source": [
    "# Implementacija modela multinomijalne logističke regresije"
   ]
  },
  {
   "cell_type": "code",
   "execution_count": null,
   "id": "cbc6c8a9",
   "metadata": {
    "id": "cbc6c8a9"
   },
   "outputs": [],
   "source": [
    "from sklearn.metrics import accuracy_score\n",
    "from sklearn.linear_model import LogisticRegression\n",
    "\n",
    "class MultinomijalnaLogistickaRegresija():\n",
    "    def __init__(self, num_classes, learning_rate=0.01):\n",
    "        self.losses = []\n",
    "        self.train_accuracies = []\n",
    "        self.num_classes = num_classes\n",
    "        self.learning_rate = learning_rate\n",
    "\n",
    "    def train(self, x, y, epochs=100):\n",
    "\n",
    "        # broj podataka, broj featuresa\n",
    "        self.m, self.n = x.shape\n",
    "        # inicijalizacija tezina\n",
    "        self.W = np.zeros((self.n, self.num_classes))\n",
    "        self.b = np.zeros(self.num_classes)\n",
    "\n",
    "        for i in range(epochs):\n",
    "            probabilities, y_pred = self.predict(x)\n",
    "\n",
    "            loss = self.compute_loss(y, probabilities)\n",
    "            dW, dB = self.compute_gradients(x, y, probabilities)\n",
    "            self.update_model_parameters(dW, dB)\n",
    "\n",
    "            self.train_accuracies.append(accuracy_score(y, y_pred))\n",
    "            self.losses.append(loss.mean())\n",
    "            print(f\"Train Loss: {self.losses[-1]} | Train Accuracy: {self.train_accuracies[-1]}\")\n",
    "\n",
    "    def compute_loss(self, y_true, probabilities):\n",
    "        # cross entropy\n",
    "        CELoss = -np.mean(np.log([proba[i] for proba, i in zip(probabilities, y_true)]))\n",
    "        return CELoss\n",
    "\n",
    "    def compute_gradients(self, x, y_true, probabilities):\n",
    "        # derivative of cross entropy\n",
    "        probabilities[np.arange(self.m), y_true] -= 1 # Substract 1 from the scores of the correct outcome\n",
    "        dW = x.T.dot(probabilities) / self.m # gradient of loss w.r.t. weights\n",
    "        db = np.sum(probabilities, axis = 0) / self.m # gradient of loss w.r.t. biases\n",
    "        return dW, db\n",
    "\n",
    "    def update_model_parameters(self, dW, dB):\n",
    "        self.W = self.W - self.learning_rate * dW\n",
    "        self.bias = self.b - self.learning_rate * dB\n",
    "\n",
    "    def predict(self, X):\n",
    "        x_dot_weights = X.dot(self.W) + self.b\n",
    "        probabilities = np.array([self.softmax(proba) for proba in x_dot_weights ])\n",
    "        predictions = np.array([np.argmax(i) for i in probabilities])\n",
    "        return probabilities, predictions\n",
    "\n",
    "    def softmax(self, x):\n",
    "        z = np.exp(x)\n",
    "        z /= np.sum(z)\n",
    "        return z"
   ]
  },
  {
   "cell_type": "code",
   "execution_count": null,
   "id": "16da8bcb",
   "metadata": {
    "id": "16da8bcb",
    "outputId": "9950083e-6a8a-44ed-c1cc-a0b850bf499c"
   },
   "outputs": [],
   "source": [
    "model = MultinomijalnaLogistickaRegresija(num_classes=3, learning_rate=7e-2 )\n",
    "model.train(X_train, y_train, epochs=100)\n",
    "_, y_train_pred = model.predict(X_train)\n",
    "accuracy_score(y_train, y_train_pred)"
   ]
  },
  {
   "cell_type": "code",
   "execution_count": null,
   "id": "12d48b8c",
   "metadata": {
    "id": "12d48b8c",
    "outputId": "9251424d-1e7e-465e-d616-3103c8a05b68"
   },
   "outputs": [],
   "source": [
    "plt.plot(model.losses)\n",
    "plt.show()"
   ]
  },
  {
   "cell_type": "code",
   "execution_count": null,
   "id": "910763c8",
   "metadata": {
    "id": "910763c8",
    "outputId": "e27e9d79-fa19-44b9-b437-360a3c24aca6"
   },
   "outputs": [],
   "source": [
    "_, y_test_pred = model.predict(X_test)\n",
    "accuracy_score(y_test, y_test_pred)"
   ]
  },
  {
   "cell_type": "code",
   "execution_count": null,
   "id": "8f6e1b50",
   "metadata": {
    "id": "8f6e1b50"
   },
   "outputs": [],
   "source": [
    "print_metrics(y_test, y_test_pred)"
   ]
  },
  {
   "cell_type": "markdown",
   "id": "9157680d",
   "metadata": {
    "id": "9157680d"
   },
   "source": [
    "# Korištenje Multinomijalne logisticke regresije iz sklearn biblioteke"
   ]
  },
  {
   "cell_type": "code",
   "execution_count": null,
   "id": "d5eb1f84",
   "metadata": {
    "id": "d5eb1f84",
    "outputId": "8bb85d08-e626-44b6-cd3e-ed0e03edebdc"
   },
   "outputs": [],
   "source": [
    "mclf = LogisticRegression(random_state=0).fit(X_train, y_train)\n",
    "y_train_pred = mclf.predict(X_train)\n",
    "accuracy_score(y_train, y_train_pred)"
   ]
  },
  {
   "cell_type": "code",
   "execution_count": null,
   "id": "d2d82285",
   "metadata": {
    "id": "d2d82285",
    "outputId": "5289c4d5-e3e4-485e-df81-b19323e30f04"
   },
   "outputs": [],
   "source": [
    "y_train_pred = mclf.predict(X_train)\n",
    "accuracy_score(y_train, y_train_pred)"
   ]
  },
  {
   "cell_type": "code",
   "execution_count": null,
   "id": "d23b762c",
   "metadata": {
    "id": "d23b762c",
    "outputId": "160b93ea-0252-49ff-f0f7-a8e82f1c7147"
   },
   "outputs": [],
   "source": [
    "y_test_pred = mclf.predict(X_test)\n",
    "accuracy_score(y_test, y_test_pred)"
   ]
  }
 ],
 "metadata": {
  "kernelspec": {
   "display_name": "Python 3",
   "language": "python",
   "name": "python3"
  },
  "language_info": {
   "codemirror_mode": {
    "name": "ipython",
    "version": 3
   },
   "file_extension": ".py",
   "mimetype": "text/x-python",
   "name": "python",
   "nbconvert_exporter": "python",
   "pygments_lexer": "ipython3",
   "version": "3.10.12"
  },
  "colab": {
   "provenance": []
  }
 },
 "nbformat": 4,
 "nbformat_minor": 5
}
