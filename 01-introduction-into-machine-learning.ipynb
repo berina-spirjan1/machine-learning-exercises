{
 "cells": [
  {
   "cell_type": "markdown",
   "metadata": {},
   "source": [
    "Prepoznavanje cifara na slici\n",
    "- potrebno je prepoznati (rucno na neki nacin) koja je cifra prikazana na slici\n",
    "- dakle, algoritam prima neku sliku i na osnovu toga prepoznaje koja je cifra\n",
    "- potrebno je da algoritam uci na neki nacin da bismo znali koja je cifra na slici, u pocetku vise grijesi \n",
    "- nakon toga za veci dataset moze sam prepoznati koja je cifra na slici, cak i na novoj slici koja je nova proslijedjena\n",
    "- skup podataka na kojem algoritam uci to je training set\n",
    "- kako mozemo zakljuciti koliko je dobar algoritam? koliko puta pogodi na skupu koji nije training set, tj. test set\n",
    "- kada istreniramo model na test setu provjeravamo koliko je algoritam dobar\n",
    "- preciznost se zove metrika u produkciji \n",
    "- za test i training set mora vrijediti da su disjunktni (nema preklapanja) i moraju imati istu neku distribuciju (na nacin da predstavljaju istu stvar, npr. crno bijele slike, ali ne smiju sadrzavati iste slike)\n",
    "- model zavisi od primjene\n",
    "- jedan model je npr. chatgpt odnosno chatgpt model\n",
    "- npr. modeli su linearna regresija, neuralne mreze itd."
   ]
  },
  {
   "cell_type": "code",
   "execution_count": null,
   "metadata": {
    "vscode": {
     "languageId": "plaintext"
    }
   },
   "outputs": [],
   "source": []
  }
 ],
 "metadata": {
  "language_info": {
   "name": "python"
  }
 },
 "nbformat": 4,
 "nbformat_minor": 2
}
